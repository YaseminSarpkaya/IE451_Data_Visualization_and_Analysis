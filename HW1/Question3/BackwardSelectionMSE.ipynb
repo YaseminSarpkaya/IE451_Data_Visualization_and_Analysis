{
 "cells": [
  {
   "cell_type": "code",
   "execution_count": 1,
   "metadata": {
    "id": "DT4jV-_ctozW"
   },
   "outputs": [],
   "source": [
    "from sklearn.linear_model import LinearRegression\n",
    "from sklearn.metrics import mean_squared_error\n",
    "import pandas as pd"
   ]
  },
  {
   "cell_type": "code",
   "execution_count": 2,
   "metadata": {
    "id": "mwKSFnO_tojk"
   },
   "outputs": [],
   "source": [
    "#Load data\n",
    "original_data = pd.read_excel('/content/OriginalData.xlsx')\n",
    "X = original_data[['calories', 'protein', 'fat', 'sodium', 'fiber', 'carbo', 'sugars', 'potass', 'vitamins', 'weight', 'cups']]\n",
    "y = original_data['rating']"
   ]
  },
  {
   "cell_type": "code",
   "execution_count": null,
   "metadata": {
    "colab": {
     "base_uri": "https://localhost:8080/"
    },
    "id": "HbIimBbttnKo",
    "outputId": "3c74f944-15f0-48b5-f22d-5877643423cb"
   },
   "outputs": [
    {
     "name": "stdout",
     "output_type": "stream",
     "text": [
      "Best Feature Subset: ['calories', 'protein', 'fat', 'sodium', 'fiber', 'carbo', 'sugars', 'potass', 'vitamins', 'cups']\n",
      "Lowest MSE: 7.830877612528858e-14\n"
     ]
    }
   ],
   "source": [
    "remaining_features = list(X.columns)\n",
    "best_features = remaining_features[:]\n",
    "lowest_mse = float('inf')\n",
    "\n",
    "# Start with all features and eliminate itaratively\n",
    "while len(remaining_features) > 0:\n",
    "    feature_to_remove = None\n",
    "\n",
    "    for feature in remaining_features:\n",
    "        selected_features = [f for f in remaining_features if f != feature]\n",
    "        X_subset = X[selected_features]\n",
    "\n",
    "        # Train the model\n",
    "        model = LinearRegression()\n",
    "        model.fit(X_subset, y)\n",
    "\n",
    "        # Calculate MSE\n",
    "        predictions = model.predict(X_subset)\n",
    "        mse = mean_squared_error(y, predictions)\n",
    "\n",
    "        # Check if this is the lowest MSE found so far\n",
    "        if mse < lowest_mse:\n",
    "            lowest_mse = mse\n",
    "            feature_to_remove = feature\n",
    "            best_features = selected_features\n",
    "\n",
    "    # stop when MSE starts to increase\n",
    "    if feature_to_remove is None:\n",
    "        break\n",
    "\n",
    "    # remove the worst feature\n",
    "    remaining_features.remove(feature_to_remove)\n",
    "\n",
    "print(\"Best Feature Subset:\", best_features)\n",
    "print(\"Lowest MSE:\", lowest_mse)\n"
   ]
  }
 ],
 "metadata": {
  "colab": {
   "provenance": []
  },
  "kernelspec": {
   "display_name": "Python 3",
   "name": "python3"
  },
  "language_info": {
   "name": "python"
  }
 },
 "nbformat": 4,
 "nbformat_minor": 0
}
