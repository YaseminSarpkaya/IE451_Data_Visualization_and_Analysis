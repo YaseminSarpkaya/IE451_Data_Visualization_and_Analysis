{
 "cells": [
  {
   "cell_type": "code",
   "execution_count": null,
   "metadata": {
    "id": "B0o8vRnes78c"
   },
   "outputs": [],
   "source": [
    "import pandas as pd\n",
    "from sklearn.linear_model import LinearRegression"
   ]
  },
  {
   "cell_type": "code",
   "execution_count": null,
   "metadata": {
    "id": "BufwXrrMv9U9"
   },
   "outputs": [],
   "source": [
    "file_path = '/content/CerealRelatedFeatures.xlsx'\n",
    "data = pd.read_excel(file_path, sheet_name='Sheet1')\n"
   ]
  },
  {
   "cell_type": "code",
   "execution_count": null,
   "metadata": {
    "colab": {
     "base_uri": "https://localhost:8080/"
    },
    "id": "Y3jXV6yssRZB",
    "outputId": "947ef398-137b-431c-b1fd-e5c9b7a1319d"
   },
   "outputs": [
    {
     "name": "stdout",
     "output_type": "stream",
     "text": [
      "Intercept: 53.437203112654856\n",
      "Coefficient for Fat: -3.4801522125761855\n",
      "Coefficient for Fiber: 2.950337893751642\n",
      "Coefficient for Sugars: -1.9640233997901102\n",
      "Rating = 53.4372 + (-3.4802) * Fat + (2.9503) * Fiber + (-1.9640) * Sugars\n"
     ]
    }
   ],
   "source": [
    "# Define the features (independent variables) and target (dependent variable)\n",
    "X = data[['fat', 'fiber', 'sugars']]\n",
    "y = data['rating']\n",
    "\n",
    "# Initialize and fit the linear regression model\n",
    "model = LinearRegression()\n",
    "model.fit(X, y)\n",
    "\n",
    "# Retrieve the coefficients and intercept from the fitted model\n",
    "intercept = model.intercept_\n",
    "coef_fat, coef_fiber, coef_sugars = model.coef_\n",
    "\n",
    "# Display the regression equation\n",
    "print(\"Intercept:\", intercept)\n",
    "print(\"Coefficient for Fat:\", coef_fat)\n",
    "print(\"Coefficient for Fiber:\", coef_fiber)\n",
    "print(\"Coefficient for Sugars:\", coef_sugars)\n",
    "\n",
    "# Regression equation\n",
    "print(f\"Rating = {intercept:.4f} + ({coef_fat:.4f}) * Fat + ({coef_fiber:.4f}) * Fiber + ({coef_sugars:.4f}) * Sugars\")\n"
   ]
  },
  {
   "cell_type": "code",
   "execution_count": null,
   "metadata": {
    "colab": {
     "base_uri": "https://localhost:8080/"
    },
    "id": "9MUCafZbBtZi",
    "outputId": "8f3dd5d6-d664-45c8-9d89-2380d224b70e"
   },
   "outputs": [
    {
     "name": "stdout",
     "output_type": "stream",
     "text": [
      "{'SST': 14996.800399790134, 'SSR': 12995.926906155126, 'SSE': 2000.8734936350077, 'R_squared': 0.8665799743748668, 'Correlation Coefficient': 0.9309027738988791, 'MAE': 4.183154831168831, 'RMSE': 5.097584726829745, 'Relative Absolute Error': 0.3822806928219616, 'Root Relative Squared Error': 0.36526706069002884}\n"
     ]
    }
   ],
   "source": [
    "import pandas as pd\n",
    "import numpy as np\n",
    "from sklearn.metrics import mean_absolute_error, mean_squared_error, r2_score\n",
    "\n",
    "file_path = '/content/CerealRelatedFeatures.xlsx'\n",
    "data = pd.read_excel(file_path)\n",
    "\n",
    "#regression equation coefficients\n",
    "intercept = 53.4372\n",
    "coef_fat = -3.4802\n",
    "coef_fiber = 2.9503\n",
    "coef_sugars = -1.9640\n",
    "\n",
    "fat = data['fat']\n",
    "fiber = data['fiber']\n",
    "sugars = data['sugars']\n",
    "rating_actual = data['rating']\n",
    "\n",
    "#predicted rating\n",
    "rating_predicted = intercept + coef_fat * fat + coef_fiber * fiber + coef_sugars * sugars\n",
    "\n",
    "sst = np.sum((rating_actual - np.mean(rating_actual)) ** 2)\n",
    "sse = np.sum((rating_actual - rating_predicted) ** 2)\n",
    "ssr = np.sum((rating_predicted - np.mean(rating_actual)) ** 2)\n",
    "r_squared = r2_score(rating_actual, rating_predicted)\n",
    "correlation_coefficient = np.corrcoef(rating_actual, rating_predicted)[0, 1]\n",
    "mae = mean_absolute_error(rating_actual, rating_predicted)\n",
    "rmse = np.sqrt(mean_squared_error(rating_actual, rating_predicted))\n",
    "relative_absolute_error = np.sum(np.abs(rating_actual - rating_predicted)) / np.sum(np.abs(rating_actual - np.mean(rating_actual)))\n",
    "root_relative_squared_error = np.sqrt(sse / sst)\n",
    "\n",
    "print({\n",
    "    \"SST\": sst,\n",
    "    \"SSR\": ssr,\n",
    "    \"SSE\": sse,\n",
    "    \"R_squared\": r_squared,\n",
    "    \"Correlation Coefficient\": correlation_coefficient,\n",
    "    \"MAE\": mae,\n",
    "    \"RMSE\": rmse,\n",
    "    \"Relative Absolute Error\": relative_absolute_error,\n",
    "    \"Root Relative Squared Error\": root_relative_squared_error\n",
    "})\n"
   ]
  }
 ],
 "metadata": {
  "colab": {
   "provenance": []
  },
  "kernelspec": {
   "display_name": "Python 3",
   "name": "python3"
  },
  "language_info": {
   "name": "python"
  }
 },
 "nbformat": 4,
 "nbformat_minor": 0
}
