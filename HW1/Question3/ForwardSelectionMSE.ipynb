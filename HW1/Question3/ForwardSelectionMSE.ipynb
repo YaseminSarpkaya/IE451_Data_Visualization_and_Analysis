{
  "nbformat": 4,
  "nbformat_minor": 0,
  "metadata": {
    "colab": {
      "provenance": []
    },
    "kernelspec": {
      "name": "python3",
      "display_name": "Python 3"
    },
    "language_info": {
      "name": "python"
    }
  },
  "cells": [
    {
      "cell_type": "markdown",
      "source": [
        "Forward Selection using MSE"
      ],
      "metadata": {
        "id": "tshgRhlOrvn1"
      }
    },
    {
      "cell_type": "code",
      "source": [
        "from sklearn.linear_model import LinearRegression\n",
        "from sklearn.metrics import mean_squared_error\n",
        "from itertools import combinations\n",
        "import pandas as pd"
      ],
      "metadata": {
        "id": "ZHCo04Zvrm9H"
      },
      "execution_count": null,
      "outputs": []
    },
    {
      "cell_type": "code",
      "source": [
        "# Load dataset\n",
        "original_data = pd.read_excel('/content/OriginalData.xlsx')\n",
        "X = original_data[['calories', 'protein', 'fat', 'sodium', 'fiber', 'carbo', 'sugars', 'potass', 'vitamins', 'weight', 'cups']]\n",
        "y = original_data['rating']"
      ],
      "metadata": {
        "id": "CCQ7aWO_rosz"
      },
      "execution_count": null,
      "outputs": []
    },
    {
      "cell_type": "code",
      "execution_count": null,
      "metadata": {
        "colab": {
          "base_uri": "https://localhost:8080/"
        },
        "id": "9utKIWaNrYBF",
        "outputId": "31d53052-4166-458f-befa-d4683c3fe0c6"
      },
      "outputs": [
        {
          "output_type": "stream",
          "name": "stdout",
          "text": [
            "Best Feature Subset: ('calories', 'protein', 'fat', 'sodium', 'fiber', 'carbo', 'sugars', 'potass', 'vitamins', 'weight', 'cups')\n",
            "Lowest MSE: 7.761705534786187e-14\n"
          ]
        }
      ],
      "source": [
        "#store the best feature set based on MSE\n",
        "best_features = None\n",
        "lowest_mse = float('inf')\n",
        "feature_mse = {}\n",
        "\n",
        "for i in range(1, len(X.columns) + 1):\n",
        "    for combo in combinations(X.columns, i):\n",
        "        X_subset = X[list(combo)]\n",
        "\n",
        "        # Train the linear regression model on the selected features\n",
        "        model = LinearRegression()\n",
        "        model.fit(X_subset, y)\n",
        "\n",
        "        # Make predictions and calculate MSE\n",
        "        predictions = model.predict(X_subset)\n",
        "        mse = mean_squared_error(y, predictions)\n",
        "\n",
        "        feature_mse[combo] = mse\n",
        "\n",
        "        # Update the best feature set if lower MSE is found\n",
        "        if mse < lowest_mse:\n",
        "            lowest_mse = mse\n",
        "            best_features = combo\n",
        "\n",
        "print(\"Best Feature Subset:\", best_features)\n",
        "print(\"Lowest MSE:\", lowest_mse)"
      ]
    }
  ]
}