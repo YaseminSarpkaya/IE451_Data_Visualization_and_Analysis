{
  "nbformat": 4,
  "nbformat_minor": 0,
  "metadata": {
    "colab": {
      "provenance": []
    },
    "kernelspec": {
      "name": "python3",
      "display_name": "Python 3"
    },
    "language_info": {
      "name": "python"
    }
  },
  "cells": [
    {
      "cell_type": "code",
      "source": [
        "from sklearn.linear_model import LinearRegression\n",
        "from sklearn.model_selection import train_test_split\n",
        "import pandas as pd\n"
      ],
      "metadata": {
        "id": "ylYtWEPswutJ"
      },
      "execution_count": null,
      "outputs": []
    },
    {
      "cell_type": "code",
      "source": [
        "original_data = pd.read_excel('/content/OriginalData.xlsx')\n",
        "rows, columns = original_data.shape\n",
        "print(f\"Number of rows: {rows}\")\n",
        "print(f\"Number of columns: {columns}\")"
      ],
      "metadata": {
        "colab": {
          "base_uri": "https://localhost:8080/"
        },
        "id": "5mZTo8olw2HC",
        "outputId": "635a3b23-d335-42e2-e32a-a15bd483ae3b"
      },
      "execution_count": null,
      "outputs": [
        {
          "output_type": "stream",
          "name": "stdout",
          "text": [
            "Number of rows: 77\n",
            "Number of columns: 16\n"
          ]
        }
      ]
    },
    {
      "cell_type": "code",
      "source": [
        "X = original_data[['calories', 'protein', 'fat', 'sodium', 'fiber', 'carbo', 'sugars', 'potass', 'vitamins', 'weight', 'cups']]\n",
        "y = original_data['rating']"
      ],
      "metadata": {
        "id": "w5zaMvw2wxze"
      },
      "execution_count": null,
      "outputs": []
    },
    {
      "cell_type": "code",
      "source": [
        "# Split data into training and testing sets\n",
        "X_train, X_test, y_train, y_test = train_test_split(X, y, test_size=0.2, random_state=1)\n",
        "\n",
        "# Adjusted R-square calculations\n",
        "def adjusted_r2(r2, n, p):\n",
        "    return 1 - (1 - r2) * ((n - 1) / (n - p - 1))\n",
        "\n",
        "remaining_features = list(X.columns)\n",
        "best_features = remaining_features[:]\n",
        "highest_adj_r2 = float('-inf')\n",
        "\n",
        "# Start with all features and iteratively remove features based on adjusted R^2\n",
        "while len(remaining_features) > 0:\n",
        "    feature_to_remove = None\n",
        "\n",
        "    # Track adjusted R^2 for each feature removal option\n",
        "    for feature in remaining_features:\n",
        "        selected_features = [f for f in remaining_features if f != feature]\n",
        "        X_train_subset = X_train[selected_features]\n",
        "        X_test_subset = X_test[selected_features]\n",
        "\n",
        "        # Train the model\n",
        "        model = LinearRegression()\n",
        "        model.fit(X_train_subset, y_train)\n",
        "\n",
        "        # Calculate R-square on the test set\n",
        "        r2 = model.score(X_test_subset, y_test)\n",
        "\n",
        "        # Calculate adjusted R2\n",
        "        adj_r2 = adjusted_r2(r2, len(y_test), len(selected_features))\n",
        "\n",
        "        if adj_r2 > highest_adj_r2:\n",
        "            highest_adj_r2 = adj_r2\n",
        "            feature_to_remove = feature\n",
        "            best_features = selected_features\n",
        "\n",
        "    # Stop when R2 decreases\n",
        "    if feature_to_remove is None:\n",
        "        break\n",
        "\n",
        "    # Remove feature\n",
        "    remaining_features.remove(feature_to_remove)\n",
        "\n",
        "print(\"Best Feature Subset:\", best_features)\n",
        "print(\"Highest Adjusted R-squared:\", highest_adj_r2)\n"
      ],
      "metadata": {
        "colab": {
          "base_uri": "https://localhost:8080/"
        },
        "id": "LYnSTJkswtsD",
        "outputId": "a7831596-97a2-46d9-f1ee-b756cb357127"
      },
      "execution_count": null,
      "outputs": [
        {
          "output_type": "stream",
          "name": "stdout",
          "text": [
            "Best Feature Subset: ['calories', 'protein', 'fat', 'sodium', 'fiber', 'carbo', 'sugars', 'potass', 'vitamins']\n",
            "Highest Adjusted R-squared: 0.9999999999999987\n"
          ]
        }
      ]
    }
  ]
}